{
 "cells": [
  {
   "cell_type": "markdown",
   "metadata": {},
   "source": [
    "# import prerequisite"
   ]
  },
  {
   "cell_type": "code",
   "execution_count": null,
   "metadata": {},
   "outputs": [],
   "source": [
    "import matplotlib.pyplot as plt   \n",
    "import numpy as np                \n",
    "import pandas as pd               \n",
    "import pickle                     # For loading and saving Python objects in binary format\n",
    "# data path:https://gitlab.com/quantum-machine-learning/autoencoder-entanglement-detection-optimizer\n",
    "#  About pickle:\n",
    "#  pickle is used to convert Python objects into a byte stream to store in a file.\n",
    "#  You can later load back  them to the original Python object.\n",
    "\n",
    "from sklearn.model_selection import train_test_split  # For splitting your dataset into training and test sets\n",
    "from sklearn.metrics import accuracy_score            # For calculating model accuracy (fraction of correct predictions)\n"
   ]
  },
  {
   "cell_type": "markdown",
   "metadata": {},
   "source": [
    "# open data and split into train and test"
   ]
  },
  {
   "cell_type": "code",
   "execution_count": 4,
   "metadata": {},
   "outputs": [],
   "source": [
    "# Load a pickled DataFrame from a binary file\n",
    "# 'rb' means \"read binary\"\n",
    "df = pickle.load(open(\"F:\\programming\\machine learning\\quantum entangelment data\", 'rb'))\n",
    "\n",
    "# Split the DataFrame into features (X) and labels (y)\n",
    "# X = all columns except the last \n",
    "X = df.iloc[:, :-1]  # Select all rows, and all columns except the last one\n",
    "\n",
    "# y = last column (target label)\n",
    "y = df.iloc[:, -1]   # Select all rows, and only the last column\n",
    "\n",
    "# Split data into training and testing sets\n",
    "# 70% of the data goes to training, 30% to testing\n",
    "#  the split will be different every time\n",
    "X_train, X_test, y_train, y_test = train_test_split(X, y, test_size=0.3)\n"
   ]
  },
  {
   "cell_type": "markdown",
   "metadata": {},
   "source": [
    "# build Ridge Classifier"
   ]
  },
  {
   "cell_type": "code",
   "execution_count": 5,
   "metadata": {},
   "outputs": [],
   "source": [
    "def RidgeClassifier(x_train, y_train, alpha):\n",
    "    # Computes the Ridge Classifier weights using the closed-form solution:\n",
    "    # W = (XᵀX + αI)⁻¹ Xᵀy\n",
    "\n",
    "    W = np.linalg.inv(\n",
    "            x_train.T @ x_train + alpha * np.eye(x_train.shape[1])\n",
    "        ) @ x_train.T @ y_train\n",
    "    \n",
    "    return W  # returns the computed weight vector W\n"
   ]
  },
  {
   "cell_type": "markdown",
   "metadata": {},
   "source": [
    "# compute accuracy of model"
   ]
  },
  {
   "cell_type": "code",
   "execution_count": 6,
   "metadata": {},
   "outputs": [
    {
     "data": {
      "text/plain": [
       "0.8896666666666667"
      ]
     },
     "execution_count": 6,
     "metadata": {},
     "output_type": "execute_result"
    }
   ],
   "source": [
    "def accuracy(X_train, y_train, X_test, y_test, alpha):   \n",
    "    # Compute weight vector using our custom Ridge Classifier\n",
    "    w = RidgeClassifier(X_train, y_train, alpha)\n",
    "\n",
    "    Y = []  \n",
    "\n",
    "    # Loop through each row in the test set\n",
    "    for i, row in enumerate(X_test.to_numpy()):\n",
    "        y_pred = np.dot(row, w)        # Compute raw score \n",
    "        y_class = int(y_pred >= 0.0)   # Apply threshold \n",
    "        Y.append(y_class)              # Store predicted class\n",
    "\n",
    "    # Convert list of predictions to a NumPy array\n",
    "    y_pred = np.array(Y)\n",
    "\n",
    "    # Calculate classification accuracy\n",
    "    accuracy = accuracy_score(y_test, y_pred)\n",
    "    \n",
    "    return accuracy\n",
    "\n",
    "# Example usage: compute accuracy with alpha = 0.1\n",
    "accuracy(X_train, y_train, X_test, y_test, 0.1)\n"
   ]
  },
  {
   "cell_type": "markdown",
   "metadata": {},
   "source": [
    "# validition curve"
   ]
  },
  {
   "cell_type": "code",
   "execution_count": 7,
   "metadata": {},
   "outputs": [
    {
     "data": {
      "image/png": "[encoded data removed]",
      "text/plain": [
       "<Figure size 640x480 with 1 Axes>"
      ]
     },
     "metadata": {},
     "output_type": "display_data"
    }
   ],
   "source": [
    "# Create 400 alpha values from 0 to 1000\n",
    "alphas = np.linspace(0, 1000, 400)\n",
    "\n",
    "errors = []  \n",
    "\n",
    "# Evaluate error across all alphas\n",
    "for alpha in alphas:\n",
    "    error = 1 - accuracy(X_train, y_train, X_test, y_test, alpha)  # Error = 1 - accuracy\n",
    "    errors.append(error)\n",
    "\n",
    "# Plot error vs. alpha\n",
    "plt.plot(alphas, errors)\n",
    "plt.xlabel('alpha')\n",
    "plt.ylabel('error')\n",
    "plt.title('Classification Error vs. Regularization Strength (alpha)')\n",
    "plt.show()"
   ]
  }
 ],
 "metadata": {
  "kernelspec": {
   "display_name": "Python 3",
   "language": "python",
   "name": "python3"
  },
  "language_info": {
   "codemirror_mode": {
    "name": "ipython",
    "version": 3
   },
   "file_extension": ".py",
   "mimetype": "text/x-python",
   "name": "python",
   "nbconvert_exporter": "python",
   "pygments_lexer": "ipython3",
   "version": "3.11.9"
  }
 },
 "nbformat": 4,
 "nbformat_minor": 2
}
